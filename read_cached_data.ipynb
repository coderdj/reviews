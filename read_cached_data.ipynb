{
  "cells": [
    {
      "cell_type": "markdown",
      "source": [
        "# Read Pickle"
      ],
      "metadata": {
        "nteract": {
          "transient": {
            "deleting": false
          }
        }
      }
    },
    {
      "cell_type": "code",
      "source": [
        "import pickle as pkl\r\n",
        "import matplotlib.pyplot as plt\r\n",
        "import numpy as np "
      ],
      "outputs": [],
      "execution_count": 1,
      "metadata": {
        "jupyter": {
          "source_hidden": false,
          "outputs_hidden": false
        },
        "nteract": {
          "transient": {
            "deleting": false
          }
        },
        "gather": {
          "logged": 1664563055676
        }
      }
    },
    {
      "cell_type": "code",
      "source": [
        "play_store = pkl.load(open(\"data/play_store.pkl\", \"rb\"))"
      ],
      "outputs": [],
      "execution_count": 3,
      "metadata": {
        "jupyter": {
          "source_hidden": false,
          "outputs_hidden": false
        },
        "nteract": {
          "transient": {
            "deleting": false
          }
        },
        "gather": {
          "logged": 1664563086390
        }
      }
    },
    {
      "cell_type": "code",
      "source": [
        "play_store[0]"
      ],
      "outputs": [
        {
          "output_type": "execute_result",
          "execution_count": 4,
          "data": {
            "text/plain": "{'reviewId': '63e4fd39-a508-48ae-9ee1-6243849ec559',\n 'userName': 'roland roulin',\n 'userImage': 'https://play-lh.googleusercontent.com/a/ALm5wu11he4mh8PKbo4eKXKWDri0i5pAWYSG_nXnWz2P=mo',\n 'content': 'Ich brauche die app regelmässig und finde sie ist einfach anzuwenden.',\n 'score': 4,\n 'thumbsUpCount': 0,\n 'reviewCreatedVersion': '5.6.1',\n 'at': datetime.datetime(2022, 9, 29, 7, 32, 16),\n 'replyContent': 'Vielen Dank für Ihre positive Rückmeldung. Es freut uns sehr, dass Sie mit unserer App zufrieden sind.',\n 'repliedAt': datetime.datetime(2022, 9, 29, 13, 22, 3)}"
          },
          "metadata": {}
        }
      ],
      "execution_count": 4,
      "metadata": {
        "jupyter": {
          "source_hidden": false,
          "outputs_hidden": false
        },
        "nteract": {
          "transient": {
            "deleting": false
          }
        },
        "gather": {
          "logged": 1664563087574
        }
      }
    },
    {
      "cell_type": "markdown",
      "source": [
        "## Simple Plots"
      ],
      "metadata": {
        "nteract": {
          "transient": {
            "deleting": false
          }
        }
      }
    },
    {
      "cell_type": "code",
      "source": [
        "plt.figure()\r\n",
        "plt.hist([a['score'] for a in play_store])\r\n",
        "plt.xlabel(\"Score\")\r\n",
        "plt.ylabel(\"Counts\")\r\n",
        "plt.show()"
      ],
      "outputs": [
        {
          "output_type": "display_data",
          "data": {
            "text/plain": "<Figure size 432x288 with 1 Axes>",
            "image/png": "[encoded data removed]"
          },
          "metadata": {
            "needs_background": "light"
          }
        }
      ],
      "execution_count": 6,
      "metadata": {
        "jupyter": {
          "source_hidden": false,
          "outputs_hidden": false
        },
        "nteract": {
          "transient": {
            "deleting": false
          }
        },
        "gather": {
          "logged": 1664563143378
        }
      }
    },
    {
      "cell_type": "code",
      "source": [
        "import matplotlib.dates as mdates\r\n",
        "\r\n",
        "plt.figure()\r\n",
        "ax = plt.gca()\r\n",
        "for score in range(1, 6):\r\n",
        "    vals = [a['at'] for a in play_store if a['score'] == score]\r\n",
        "\r\n",
        "    ax.hist(vals, bins=150, label=\"%i stars\" % score)\r\n",
        "ax.xaxis.set_major_locator(mdates.YearLocator())\r\n",
        "ax.xaxis.set_major_formatter(mdates.DateFormatter('%d.%m.%y'))\r\n",
        "plt.xticks(rotation = 90)\r\n",
        "plt.legend()\r\n",
        "plt.ylabel(\"Counts\")\r\n",
        "plt.show()"
      ],
      "outputs": [
        {
          "output_type": "display_data",
          "data": {
            "text/plain": "<Figure size 432x288 with 1 Axes>",
            "image/png": "[encoded data removed]"
          },
          "metadata": {
            "needs_background": "light"
          }
        }
      ],
      "execution_count": 11,
      "metadata": {
        "jupyter": {
          "source_hidden": false,
          "outputs_hidden": false
        },
        "nteract": {
          "transient": {
            "deleting": false
          }
        },
        "gather": {
          "logged": 1664563418597
        }
      }
    },
    {
      "cell_type": "code",
      "source": [],
      "outputs": [],
      "execution_count": null,
      "metadata": {
        "jupyter": {
          "source_hidden": false,
          "outputs_hidden": false
        },
        "nteract": {
          "transient": {
            "deleting": false
          }
        }
      }
    }
  ],
  "metadata": {
    "kernelspec": {
      "display_name": "Python 3.8 - AzureML",
      "language": "python",
      "name": "python38-azureml"
    },
    "language_info": {
      "codemirror_mode": {
        "name": "ipython",
        "version": 3
      },
      "file_extension": ".py",
      "mimetype": "text/x-python",
      "name": "python",
      "nbconvert_exporter": "python",
      "pygments_lexer": "ipython3",
      "version": "3.8.1"
    },
    "microsoft": {
      "host": {
        "AzureML": {
          "notebookHasBeenCompleted": true
        }
      }
    },
    "nteract": {
      "version": "nteract-front-end@1.0.0"
    }
  },
  "nbformat": 4,
  "nbformat_minor": 2
}