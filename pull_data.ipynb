{
  "cells": [
    {
      "cell_type": "markdown",
      "source": [
        "# Fetching Reviews\r\n",
        "\r\n",
        "## Apple App Store\r\n",
        "\r\n",
        "### Requirements\r\n",
        "\r\n",
        "- app_store_scraper\r\n"
      ],
      "metadata": {
        "nteract": {
          "transient": {
            "deleting": false
          }
        }
      }
    },
    {
      "cell_type": "code",
      "source": [
        "from app_store_scraper import AppStore\r\n",
        "import json\r\n",
        "import numpy\r\n",
        "import matplotlib.pyplot as plt\r\n",
        "import pandas"
      ],
      "outputs": [
        {
          "output_type": "stream",
          "name": "stderr",
          "text": "Matplotlib is building the font cache; this may take a moment.\n"
        }
      ],
      "execution_count": 1,
      "metadata": {
        "jupyter": {
          "source_hidden": false,
          "outputs_hidden": false
        },
        "nteract": {
          "transient": {
            "deleting": false
          }
        },
        "gather": {
          "logged": 1664542213647
        }
      }
    },
    {
      "cell_type": "code",
      "source": [
        "pf = AppStore(country=\"ch\", app_name=\"postfinance-app\", app_id=\"386766642\")"
      ],
      "outputs": [
        {
          "output_type": "stream",
          "name": "stderr",
          "text": "2022-09-30 12:50:38,058 [INFO] Base - Initialised: AppStore('ch', 'postfinance-app', 386766642)\n2022-09-30 12:50:38,061 [INFO] Base - Ready to fetch reviews from: https://apps.apple.com/ch/app/postfinance-app/id386766642\n"
        }
      ],
      "execution_count": 2,
      "metadata": {
        "jupyter": {
          "source_hidden": false,
          "outputs_hidden": false
        },
        "nteract": {
          "transient": {
            "deleting": false
          }
        },
        "gather": {
          "logged": 1664542238096
        }
      }
    },
    {
      "cell_type": "code",
      "source": [
        "pf.review(5000)"
      ],
      "outputs": [
        {
          "output_type": "stream",
          "name": "stderr",
          "text": "2022-09-30 14:51:49,486 [INFO] Base - [id:386766642] Fetched 400 reviews (420 fetched in total)\n2022-09-30 14:51:55,021 [INFO] Base - [id:386766642] Fetched 880 reviews (900 fetched in total)\n2022-09-30 14:52:00,391 [INFO] Base - [id:386766642] Fetched 1380 reviews (1400 fetched in total)\n2022-09-30 14:52:05,651 [INFO] Base - [id:386766642] Fetched 1820 reviews (1840 fetched in total)\n2022-09-30 14:52:10,862 [INFO] Base - [id:386766642] Fetched 2320 reviews (2340 fetched in total)\n2022-09-30 14:52:32,610 [INFO] Base - [id:386766642] Fetched 2580 reviews (2600 fetched in total)\n2022-09-30 14:52:51,935 [ERROR] Base - Something went wrong: HTTPSConnectionPool(host='amp-api.apps.apple.com', port=443): Max retries exceeded with url: /v1/catalog/ch/apps/386766642/reviews?l=en-GB&offset=2660&limit=20&platform=web&additionalPlatforms=appletv%2Cipad%2Ciphone%2Cmac (Caused by ResponseError('too many 429 error responses'))\n2022-09-30 14:52:51,939 [INFO] Base - [id:386766642] Fetched 2640 reviews (2660 fetched in total)\n"
        }
      ],
      "execution_count": 6,
      "metadata": {
        "jupyter": {
          "source_hidden": false,
          "outputs_hidden": false
        },
        "nteract": {
          "transient": {
            "deleting": false
          }
        },
        "gather": {
          "logged": 1664549571776
        }
      }
    },
    {
      "cell_type": "code",
      "source": [
        "pf.reviews[0]"
      ],
      "outputs": [
        {
          "output_type": "execute_result",
          "execution_count": 5,
          "data": {
            "text/plain": "{'title': 'Übersicht',\n 'isEdited': False,\n 'date': datetime.datetime(2017, 6, 21, 14, 33, 22),\n 'userName': '131233aN',\n 'review': 'Bitte wieder konto gesamt übersicht.\\nNicht kacheln!!',\n 'rating': 3}"
          },
          "metadata": {}
        }
      ],
      "execution_count": 5,
      "metadata": {
        "jupyter": {
          "source_hidden": false,
          "outputs_hidden": false
        },
        "nteract": {
          "transient": {
            "deleting": false
          }
        },
        "gather": {
          "logged": 1664549426269
        }
      }
    },
    {
      "cell_type": "code",
      "source": [
        "import pickle as pkl\r\n",
        "pkl.dump(pf.reviews, open(\"data/app_store.pkl\", \"wb\"))"
      ],
      "outputs": [],
      "execution_count": 22,
      "metadata": {
        "jupyter": {
          "source_hidden": false,
          "outputs_hidden": false
        },
        "nteract": {
          "transient": {
            "deleting": false
          }
        },
        "gather": {
          "logged": 1664550166242
        }
      }
    },
    {
      "cell_type": "code",
      "source": [
        "# Save as JSON too\r\n",
        "with open(\"data/app_store.json\", 'w') as f:\r\n",
        "    f.write(json.dumps(pf.reviews, default=str))"
      ],
      "outputs": [],
      "execution_count": 14,
      "metadata": {
        "jupyter": {
          "source_hidden": false,
          "outputs_hidden": false
        },
        "nteract": {
          "transient": {
            "deleting": false
          }
        },
        "gather": {
          "logged": 1664549872541
        }
      }
    },
    {
      "cell_type": "markdown",
      "source": [
        "## Google Play Store\r\n",
        "### Requirements"
      ],
      "metadata": {
        "nteract": {
          "transient": {
            "deleting": false
          }
        }
      }
    },
    {
      "cell_type": "code",
      "source": [
        "from google_play_scraper import Sort, reviews_all\r\n",
        "\r\n",
        "\r\n",
        "ch_reviews = reviews_all(\r\n",
        "    'ch.postfinance.android',\r\n",
        "    sleep_milliseconds=0, # defaults to 0\r\n",
        "    lang='de', # defaults to 'en'\r\n",
        "    country='ch', # defaults to 'us'\r\n",
        "    sort=Sort.NEWEST, # defaults to Sort.MOST_RELEVANT\r\n",
        ")"
      ],
      "outputs": [],
      "execution_count": 17,
      "metadata": {
        "jupyter": {
          "source_hidden": false,
          "outputs_hidden": false
        },
        "nteract": {
          "transient": {
            "deleting": false
          }
        },
        "gather": {
          "logged": 1664550115368
        }
      }
    },
    {
      "cell_type": "code",
      "source": [
        "pkl.dump(ch_reviews, open(\"data/play_store.pkl\", \"wb\"))"
      ],
      "outputs": [],
      "execution_count": 23,
      "metadata": {
        "jupyter": {
          "source_hidden": false,
          "outputs_hidden": false
        },
        "nteract": {
          "transient": {
            "deleting": false
          }
        },
        "gather": {
          "logged": 1664550171180
        }
      }
    },
    {
      "cell_type": "code",
      "source": [
        "with open(\"data/play_store.json\", 'w') as f:\r\n",
        "    f.write(json.dumps(ch_reviews, default=str))"
      ],
      "outputs": [],
      "execution_count": 25,
      "metadata": {
        "jupyter": {
          "source_hidden": false,
          "outputs_hidden": false
        },
        "nteract": {
          "transient": {
            "deleting": false
          }
        },
        "gather": {
          "logged": 1664550205379
        }
      }
    },
    {
      "cell_type": "markdown",
      "source": [
        "## Twitter\r\n",
        "See https://github.com/JustAnotherArchivist/snscrape "
      ],
      "metadata": {
        "nteract": {
          "transient": {
            "deleting": false
          }
        }
      }
    },
    {
      "cell_type": "code",
      "source": [
        "import snscrape.modules.twitter as sntwitter\r\n",
        "vals = sntwitter.TwitterSearchScraper('\"#postfinance\"')"
      ],
      "outputs": [],
      "execution_count": 29,
      "metadata": {
        "jupyter": {
          "source_hidden": false,
          "outputs_hidden": false
        },
        "nteract": {
          "transient": {
            "deleting": false
          }
        },
        "gather": {
          "logged": 1664560095782
        }
      }
    },
    {
      "cell_type": "code",
      "source": [
        "import pandas as pd\r\n",
        "import itertools\r\n",
        "df = pd.DataFrame(itertools.islice(sntwitter.TwitterSearchScraper(\r\n",
        "    '\"#postfinance\"').get_items(),100))"
      ],
      "outputs": [
        {
          "output_type": "stream",
          "name": "stderr",
          "text": "2022-09-30 17:49:27,449 [INFO] snscrape.modules.twitter - Retrieving scroll page None\n2022-09-30 17:49:27,469 [INFO] snscrape.base - Retrieving https://api.twitter.com/2/search/adaptive.json?include_profile_interstitial_type=1&include_blocking=1&include_blocked_by=1&include_followed_by=1&include_want_retweets=1&include_mute_edge=1&include_can_dm=1&include_can_media_tag=1&skip_status=1&cards_platform=Web-12&include_cards=1&include_ext_alt_text=true&include_quote_count=true&include_reply_count=1&tweet_mode=extended&include_entities=true&include_user_entities=true&include_ext_media_color=true&include_ext_media_availability=true&send_error_codes=true&simple_quoted_tweets=true&q=%22%23postfinance%22&tweet_search_mode=live&count=100&query_source=spelling_expansion_revert_click&pc=1&spelling_corrections=1&ext=mediaStats%2ChighlightedLabel\n2022-09-30 17:49:28,324 [INFO] snscrape.base - Retrieved https://api.twitter.com/2/search/adaptive.json?include_profile_interstitial_type=1&include_blocking=1&include_blocked_by=1&include_followed_by=1&include_want_retweets=1&include_mute_edge=1&include_can_dm=1&include_can_media_tag=1&skip_status=1&cards_platform=Web-12&include_cards=1&include_ext_alt_text=true&include_quote_count=true&include_reply_count=1&tweet_mode=extended&include_entities=true&include_user_entities=true&include_ext_media_color=true&include_ext_media_availability=true&send_error_codes=true&simple_quoted_tweets=true&q=%22%23postfinance%22&tweet_search_mode=live&count=100&query_source=spelling_expansion_revert_click&pc=1&spelling_corrections=1&ext=mediaStats%2ChighlightedLabel: 200\n2022-09-30 17:49:28,345 [INFO] snscrape.modules.twitter - Retrieving scroll page scroll:thGAVUV0VFVBaAwL6V5qTg0ysWhsDTobWU49srEnEV8IV6FYCJehgHREVGQVVMVDUBFQAVAAA=\n2022-09-30 17:49:28,354 [INFO] snscrape.base - Retrieving https://api.twitter.com/2/search/adaptive.json?include_profile_interstitial_type=1&include_blocking=1&include_blocked_by=1&include_followed_by=1&include_want_retweets=1&include_mute_edge=1&include_can_dm=1&include_can_media_tag=1&skip_status=1&cards_platform=Web-12&include_cards=1&include_ext_alt_text=true&include_quote_count=true&include_reply_count=1&tweet_mode=extended&include_entities=true&include_user_entities=true&include_ext_media_color=true&include_ext_media_availability=true&send_error_codes=true&simple_quoted_tweets=true&q=%22%23postfinance%22&tweet_search_mode=live&count=100&query_source=spelling_expansion_revert_click&cursor=scroll%3AthGAVUV0VFVBaAwL6V5qTg0ysWhsDTobWU49srEnEV8IV6FYCJehgHREVGQVVMVDUBFQAVAAA%3D&pc=1&spelling_corrections=1&ext=mediaStats%2ChighlightedLabel\n2022-09-30 17:49:29,072 [INFO] snscrape.base - Retrieved https://api.twitter.com/2/search/adaptive.json?include_profile_interstitial_type=1&include_blocking=1&include_blocked_by=1&include_followed_by=1&include_want_retweets=1&include_mute_edge=1&include_can_dm=1&include_can_media_tag=1&skip_status=1&cards_platform=Web-12&include_cards=1&include_ext_alt_text=true&include_quote_count=true&include_reply_count=1&tweet_mode=extended&include_entities=true&include_user_entities=true&include_ext_media_color=true&include_ext_media_availability=true&send_error_codes=true&simple_quoted_tweets=true&q=%22%23postfinance%22&tweet_search_mode=live&count=100&query_source=spelling_expansion_revert_click&cursor=scroll%3AthGAVUV0VFVBaAwL6V5qTg0ysWhsDTobWU49srEnEV8IV6FYCJehgHREVGQVVMVDUBFQAVAAA%3D&pc=1&spelling_corrections=1&ext=mediaStats%2ChighlightedLabel: 200\n2022-09-30 17:49:29,102 [INFO] snscrape.modules.twitter - Retrieving scroll page scroll:thGAVUV0VFVBaCwKC92KKXsSsWhsDTobWU49srEnEV4IJ6FYCJehgHREVGQVVMVDUBFQIVAAA=\n2022-09-30 17:49:29,110 [INFO] snscrape.base - Retrieving https://api.twitter.com/2/search/adaptive.json?include_profile_interstitial_type=1&include_blocking=1&include_blocked_by=1&include_followed_by=1&include_want_retweets=1&include_mute_edge=1&include_can_dm=1&include_can_media_tag=1&skip_status=1&cards_platform=Web-12&include_cards=1&include_ext_alt_text=true&include_quote_count=true&include_reply_count=1&tweet_mode=extended&include_entities=true&include_user_entities=true&include_ext_media_color=true&include_ext_media_availability=true&send_error_codes=true&simple_quoted_tweets=true&q=%22%23postfinance%22&tweet_search_mode=live&count=100&query_source=spelling_expansion_revert_click&cursor=scroll%3AthGAVUV0VFVBaCwKC92KKXsSsWhsDTobWU49srEnEV4IJ6FYCJehgHREVGQVVMVDUBFQIVAAA%3D&pc=1&spelling_corrections=1&ext=mediaStats%2ChighlightedLabel\n2022-09-30 17:49:29,747 [INFO] snscrape.base - Retrieved https://api.twitter.com/2/search/adaptive.json?include_profile_interstitial_type=1&include_blocking=1&include_blocked_by=1&include_followed_by=1&include_want_retweets=1&include_mute_edge=1&include_can_dm=1&include_can_media_tag=1&skip_status=1&cards_platform=Web-12&include_cards=1&include_ext_alt_text=true&include_quote_count=true&include_reply_count=1&tweet_mode=extended&include_entities=true&include_user_entities=true&include_ext_media_color=true&include_ext_media_availability=true&send_error_codes=true&simple_quoted_tweets=true&q=%22%23postfinance%22&tweet_search_mode=live&count=100&query_source=spelling_expansion_revert_click&cursor=scroll%3AthGAVUV0VFVBaCwKC92KKXsSsWhsDTobWU49srEnEV4IJ6FYCJehgHREVGQVVMVDUBFQIVAAA%3D&pc=1&spelling_corrections=1&ext=mediaStats%2ChighlightedLabel: 200\n2022-09-30 17:49:29,837 [INFO] snscrape.modules.twitter - Retrieving scroll page scroll:thGAVUV0VFVBaAwLiZ4-mOpysWhsDTobWU49srEnEV0P95FYCJehgHREVGQVVMVDUBFQQVAAA=\n2022-09-30 17:49:29,883 [INFO] snscrape.base - Retrieving https://api.twitter.com/2/search/adaptive.json?include_profile_interstitial_type=1&include_blocking=1&include_blocked_by=1&include_followed_by=1&include_want_retweets=1&include_mute_edge=1&include_can_dm=1&include_can_media_tag=1&skip_status=1&cards_platform=Web-12&include_cards=1&include_ext_alt_text=true&include_quote_count=true&include_reply_count=1&tweet_mode=extended&include_entities=true&include_user_entities=true&include_ext_media_color=true&include_ext_media_availability=true&send_error_codes=true&simple_quoted_tweets=true&q=%22%23postfinance%22&tweet_search_mode=live&count=100&query_source=spelling_expansion_revert_click&cursor=scroll%3AthGAVUV0VFVBaAwLiZ4-mOpysWhsDTobWU49srEnEV0P95FYCJehgHREVGQVVMVDUBFQQVAAA%3D&pc=1&spelling_corrections=1&ext=mediaStats%2ChighlightedLabel\n2022-09-30 17:49:30,642 [INFO] snscrape.base - Retrieved https://api.twitter.com/2/search/adaptive.json?include_profile_interstitial_type=1&include_blocking=1&include_blocked_by=1&include_followed_by=1&include_want_retweets=1&include_mute_edge=1&include_can_dm=1&include_can_media_tag=1&skip_status=1&cards_platform=Web-12&include_cards=1&include_ext_alt_text=true&include_quote_count=true&include_reply_count=1&tweet_mode=extended&include_entities=true&include_user_entities=true&include_ext_media_color=true&include_ext_media_availability=true&send_error_codes=true&simple_quoted_tweets=true&q=%22%23postfinance%22&tweet_search_mode=live&count=100&query_source=spelling_expansion_revert_click&cursor=scroll%3AthGAVUV0VFVBaAwLiZ4-mOpysWhsDTobWU49srEnEV0P95FYCJehgHREVGQVVMVDUBFQQVAAA%3D&pc=1&spelling_corrections=1&ext=mediaStats%2ChighlightedLabel: 200\n2022-09-30 17:49:30,661 [INFO] snscrape.modules.twitter - Retrieving scroll page scroll:thGAVUV0VFVBaEwKjtidnC-SoWhsDTobWU49srEnEV6Px5FYCJehgHREVGQVVMVDUBFQYVAAA=\n2022-09-30 17:49:30,671 [INFO] snscrape.base - Retrieving https://api.twitter.com/2/search/adaptive.json?include_profile_interstitial_type=1&include_blocking=1&include_blocked_by=1&include_followed_by=1&include_want_retweets=1&include_mute_edge=1&include_can_dm=1&include_can_media_tag=1&skip_status=1&cards_platform=Web-12&include_cards=1&include_ext_alt_text=true&include_quote_count=true&include_reply_count=1&tweet_mode=extended&include_entities=true&include_user_entities=true&include_ext_media_color=true&include_ext_media_availability=true&send_error_codes=true&simple_quoted_tweets=true&q=%22%23postfinance%22&tweet_search_mode=live&count=100&query_source=spelling_expansion_revert_click&cursor=scroll%3AthGAVUV0VFVBaEwKjtidnC-SoWhsDTobWU49srEnEV6Px5FYCJehgHREVGQVVMVDUBFQYVAAA%3D&pc=1&spelling_corrections=1&ext=mediaStats%2ChighlightedLabel\n2022-09-30 17:49:31,383 [INFO] snscrape.base - Retrieved https://api.twitter.com/2/search/adaptive.json?include_profile_interstitial_type=1&include_blocking=1&include_blocked_by=1&include_followed_by=1&include_want_retweets=1&include_mute_edge=1&include_can_dm=1&include_can_media_tag=1&skip_status=1&cards_platform=Web-12&include_cards=1&include_ext_alt_text=true&include_quote_count=true&include_reply_count=1&tweet_mode=extended&include_entities=true&include_user_entities=true&include_ext_media_color=true&include_ext_media_availability=true&send_error_codes=true&simple_quoted_tweets=true&q=%22%23postfinance%22&tweet_search_mode=live&count=100&query_source=spelling_expansion_revert_click&cursor=scroll%3AthGAVUV0VFVBaEwKjtidnC-SoWhsDTobWU49srEnEV6Px5FYCJehgHREVGQVVMVDUBFQYVAAA%3D&pc=1&spelling_corrections=1&ext=mediaStats%2ChighlightedLabel: 200\n2022-09-30 17:49:31,403 [INFO] snscrape.modules.twitter - Retrieving scroll page scroll:thGAVUV0VFVBaIgLLt04q_9ioWhsDTobWU49srEnEVlPp5FYCJehgHREVGQVVMVDUBFQgVAAA=\n2022-09-30 17:49:31,412 [INFO] snscrape.base - Retrieving https://api.twitter.com/2/search/adaptive.json?include_profile_interstitial_type=1&include_blocking=1&include_blocked_by=1&include_followed_by=1&include_want_retweets=1&include_mute_edge=1&include_can_dm=1&include_can_media_tag=1&skip_status=1&cards_platform=Web-12&include_cards=1&include_ext_alt_text=true&include_quote_count=true&include_reply_count=1&tweet_mode=extended&include_entities=true&include_user_entities=true&include_ext_media_color=true&include_ext_media_availability=true&send_error_codes=true&simple_quoted_tweets=true&q=%22%23postfinance%22&tweet_search_mode=live&count=100&query_source=spelling_expansion_revert_click&cursor=scroll%3AthGAVUV0VFVBaIgLLt04q_9ioWhsDTobWU49srEnEVlPp5FYCJehgHREVGQVVMVDUBFQgVAAA%3D&pc=1&spelling_corrections=1&ext=mediaStats%2ChighlightedLabel\n2022-09-30 17:49:32,068 [INFO] snscrape.base - Retrieved https://api.twitter.com/2/search/adaptive.json?include_profile_interstitial_type=1&include_blocking=1&include_blocked_by=1&include_followed_by=1&include_want_retweets=1&include_mute_edge=1&include_can_dm=1&include_can_media_tag=1&skip_status=1&cards_platform=Web-12&include_cards=1&include_ext_alt_text=true&include_quote_count=true&include_reply_count=1&tweet_mode=extended&include_entities=true&include_user_entities=true&include_ext_media_color=true&include_ext_media_availability=true&send_error_codes=true&simple_quoted_tweets=true&q=%22%23postfinance%22&tweet_search_mode=live&count=100&query_source=spelling_expansion_revert_click&cursor=scroll%3AthGAVUV0VFVBaIgLLt04q_9ioWhsDTobWU49srEnEVlPp5FYCJehgHREVGQVVMVDUBFQgVAAA%3D&pc=1&spelling_corrections=1&ext=mediaStats%2ChighlightedLabel: 200\n"
        }
      ],
      "execution_count": 34,
      "metadata": {
        "jupyter": {
          "source_hidden": false,
          "outputs_hidden": false
        },
        "nteract": {
          "transient": {
            "deleting": false
          }
        },
        "gather": {
          "logged": 1664560172274
        }
      }
    },
    {
      "cell_type": "code",
      "source": [
        "df.head()"
      ],
      "outputs": [
        {
          "output_type": "execute_result",
          "execution_count": 35,
          "data": {
            "text/plain": "                                                 url  \\\n0  https://twitter.com/moetiker/status/1575070548...   \n1  https://twitter.com/finews_ch/status/157469862...   \n2  https://twitter.com/KatjaChrist/status/1574694...   \n3  https://twitter.com/economiesuisse/status/1574...   \n4  https://twitter.com/Promontagna/status/1574656...   \n\n                       date  \\\n0 2022-09-28 10:30:56+00:00   \n1 2022-09-27 09:53:02+00:00   \n2 2022-09-27 09:38:12+00:00   \n3 2022-09-27 08:06:01+00:00   \n4 2022-09-27 07:04:37+00:00   \n\n                                             content  \\\n0  @PostFinance wie geht es weiter mit dem Bargel...   \n1  Postfilialen öffnen die Tür – für die Migros B...   \n2  Es ist #wettbewerbsverzerrend u. ordnungspolit...   \n3  economiesuisse begrüsst das Nichteintreten des...   \n4  Après le Conseil des Etats, le Conseil nationa...   \n\n                                     renderedContent                   id  \\\n0  @PostFinance wie geht es weiter mit dem Bargel...  1575070548744630275   \n1  Postfilialen öffnen die Tür – für die Migros B...  1574698621932830720   \n2  Es ist #wettbewerbsverzerrend u. ordnungspolit...  1574694888326807556   \n3  economiesuisse begrüsst das Nichteintreten des...  1574671687878057984   \n4  Après le Conseil des Etats, le Conseil nationa...  1574656237605912576   \n\n                                                user  replyCount  \\\n0  {'username': 'moetiker', 'id': 14998252, 'disp...           1   \n1  {'username': 'finews_ch', 'id': 85299581, 'dis...           0   \n2  {'username': 'KatjaChrist', 'id': 846748184504...           0   \n3  {'username': 'economiesuisse', 'id': 56377952,...           0   \n4  {'username': 'Promontagna', 'id': 208546537, '...           0   \n\n   retweetCount  likeCount  quoteCount  ...  \\\n0             0          0           0  ...   \n1             0          1           0  ...   \n2             5          8           0  ...   \n3             0          1           0  ...   \n4             0          1           0  ...   \n\n                                               media retweetedTweet  \\\n0  [{'previewUrl': 'https://pbs.twimg.com/media/F...           None   \n1                                               None           None   \n2                                               None           None   \n3                                               None           None   \n4                                               None           None   \n\n  quotedTweet inReplyToTweetId inReplyToUser  \\\n0        None              NaN          None   \n1        None              NaN          None   \n2        None              NaN          None   \n3        None              NaN          None   \n4        None              NaN          None   \n\n                                      mentionedUsers coordinates place  \\\n0  [{'username': 'PostFinance', 'id': 127884579, ...        None  None   \n1                                               None        None  None   \n2  [{'username': 'grunliberale', 'id': 22799864, ...        None  None   \n3                                               None        None  None   \n4                                               None        None  None   \n\n                                            hashtags cashtags  \n0                    [Ausland, Bargeld, Postfinance]     None  \n1      [Schweizerischepost, postfinance, migrosbank]     None  \n2  [wettbewerbsverzerrend, Postfinance, Privatisi...     None  \n3                      [Postfinance, economiesuisse]     None  \n4                                      [Postfinance]     None  \n\n[5 rows x 27 columns]",
            "text/html": "<div>\n<style scoped>\n    .dataframe tbody tr th:only-of-type {\n        vertical-align: middle;\n    }\n\n    .dataframe tbody tr th {\n        vertical-align: top;\n    }\n\n    .dataframe thead th {\n        text-align: right;\n    }\n</style>\n<table border=\"1\" class=\"dataframe\">\n  <thead>\n    <tr style=\"text-align: right;\">\n      <th></th>\n      <th>url</th>\n      <th>date</th>\n      <th>content</th>\n      <th>renderedContent</th>\n      <th>id</th>\n      <th>user</th>\n      <th>replyCount</th>\n      <th>retweetCount</th>\n      <th>likeCount</th>\n      <th>quoteCount</th>\n      <th>...</th>\n      <th>media</th>\n      <th>retweetedTweet</th>\n      <th>quotedTweet</th>\n      <th>inReplyToTweetId</th>\n      <th>inReplyToUser</th>\n      <th>mentionedUsers</th>\n      <th>coordinates</th>\n      <th>place</th>\n      <th>hashtags</th>\n      <th>cashtags</th>\n    </tr>\n  </thead>\n  <tbody>\n    <tr>\n      <th>0</th>\n      <td>https://twitter.com/moetiker/status/1575070548...</td>\n      <td>2022-09-28 10:30:56+00:00</td>\n      <td>@PostFinance wie geht es weiter mit dem Bargel...</td>\n      <td>@PostFinance wie geht es weiter mit dem Bargel...</td>\n      <td>1575070548744630275</td>\n      <td>{'username': 'moetiker', 'id': 14998252, 'disp...</td>\n      <td>1</td>\n      <td>0</td>\n      <td>0</td>\n      <td>0</td>\n      <td>...</td>\n      <td>[{'previewUrl': 'https://pbs.twimg.com/media/F...</td>\n      <td>None</td>\n      <td>None</td>\n      <td>NaN</td>\n      <td>None</td>\n      <td>[{'username': 'PostFinance', 'id': 127884579, ...</td>\n      <td>None</td>\n      <td>None</td>\n      <td>[Ausland, Bargeld, Postfinance]</td>\n      <td>None</td>\n    </tr>\n    <tr>\n      <th>1</th>\n      <td>https://twitter.com/finews_ch/status/157469862...</td>\n      <td>2022-09-27 09:53:02+00:00</td>\n      <td>Postfilialen öffnen die Tür – für die Migros B...</td>\n      <td>Postfilialen öffnen die Tür – für die Migros B...</td>\n      <td>1574698621932830720</td>\n      <td>{'username': 'finews_ch', 'id': 85299581, 'dis...</td>\n      <td>0</td>\n      <td>0</td>\n      <td>1</td>\n      <td>0</td>\n      <td>...</td>\n      <td>None</td>\n      <td>None</td>\n      <td>None</td>\n      <td>NaN</td>\n      <td>None</td>\n      <td>None</td>\n      <td>None</td>\n      <td>None</td>\n      <td>[Schweizerischepost, postfinance, migrosbank]</td>\n      <td>None</td>\n    </tr>\n    <tr>\n      <th>2</th>\n      <td>https://twitter.com/KatjaChrist/status/1574694...</td>\n      <td>2022-09-27 09:38:12+00:00</td>\n      <td>Es ist #wettbewerbsverzerrend u. ordnungspolit...</td>\n      <td>Es ist #wettbewerbsverzerrend u. ordnungspolit...</td>\n      <td>1574694888326807556</td>\n      <td>{'username': 'KatjaChrist', 'id': 846748184504...</td>\n      <td>0</td>\n      <td>5</td>\n      <td>8</td>\n      <td>0</td>\n      <td>...</td>\n      <td>None</td>\n      <td>None</td>\n      <td>None</td>\n      <td>NaN</td>\n      <td>None</td>\n      <td>[{'username': 'grunliberale', 'id': 22799864, ...</td>\n      <td>None</td>\n      <td>None</td>\n      <td>[wettbewerbsverzerrend, Postfinance, Privatisi...</td>\n      <td>None</td>\n    </tr>\n    <tr>\n      <th>3</th>\n      <td>https://twitter.com/economiesuisse/status/1574...</td>\n      <td>2022-09-27 08:06:01+00:00</td>\n      <td>economiesuisse begrüsst das Nichteintreten des...</td>\n      <td>economiesuisse begrüsst das Nichteintreten des...</td>\n      <td>1574671687878057984</td>\n      <td>{'username': 'economiesuisse', 'id': 56377952,...</td>\n      <td>0</td>\n      <td>0</td>\n      <td>1</td>\n      <td>0</td>\n      <td>...</td>\n      <td>None</td>\n      <td>None</td>\n      <td>None</td>\n      <td>NaN</td>\n      <td>None</td>\n      <td>None</td>\n      <td>None</td>\n      <td>None</td>\n      <td>[Postfinance, economiesuisse]</td>\n      <td>None</td>\n    </tr>\n    <tr>\n      <th>4</th>\n      <td>https://twitter.com/Promontagna/status/1574656...</td>\n      <td>2022-09-27 07:04:37+00:00</td>\n      <td>Après le Conseil des Etats, le Conseil nationa...</td>\n      <td>Après le Conseil des Etats, le Conseil nationa...</td>\n      <td>1574656237605912576</td>\n      <td>{'username': 'Promontagna', 'id': 208546537, '...</td>\n      <td>0</td>\n      <td>0</td>\n      <td>1</td>\n      <td>0</td>\n      <td>...</td>\n      <td>None</td>\n      <td>None</td>\n      <td>None</td>\n      <td>NaN</td>\n      <td>None</td>\n      <td>None</td>\n      <td>None</td>\n      <td>None</td>\n      <td>[Postfinance]</td>\n      <td>None</td>\n    </tr>\n  </tbody>\n</table>\n<p>5 rows × 27 columns</p>\n</div>"
          },
          "metadata": {}
        }
      ],
      "execution_count": 35,
      "metadata": {
        "jupyter": {
          "source_hidden": false,
          "outputs_hidden": false
        },
        "nteract": {
          "transient": {
            "deleting": false
          }
        },
        "gather": {
          "logged": 1664560206812
        }
      }
    },
    {
      "cell_type": "code",
      "source": [],
      "outputs": [],
      "execution_count": null,
      "metadata": {
        "jupyter": {
          "source_hidden": false,
          "outputs_hidden": false
        },
        "nteract": {
          "transient": {
            "deleting": false
          }
        }
      }
    }
  ],
  "metadata": {
    "kernelspec": {
      "name": "pf_reviews",
      "language": "python",
      "display_name": "Python (PF)"
    },
    "language_info": {
      "name": "python",
      "version": "3.10.4",
      "mimetype": "text/x-python",
      "codemirror_mode": {
        "name": "ipython",
        "version": 3
      },
      "pygments_lexer": "ipython3",
      "nbconvert_exporter": "python",
      "file_extension": ".py"
    },
    "kernel_info": {
      "name": "pf_reviews"
    },
    "nteract": {
      "version": "nteract-front-end@1.0.0"
    },
    "microsoft": {
      "host": {
        "AzureML": {
          "notebookHasBeenCompleted": true
        }
      }
    }
  },
  "nbformat": 4,
  "nbformat_minor": 2
}