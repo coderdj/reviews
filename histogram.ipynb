{
  "cells": [
    {
      "cell_type": "code",
      "source": [
        "import matplotlib.pyplot as plt"
      ],
      "outputs": [],
      "execution_count": 1,
      "metadata": {
        "gather": {
          "logged": 1664636852214
        }
      }
    },
    {
      "cell_type": "code",
      "source": [
        "# import urllib library\r\n",
        "from urllib.request import urlopen\r\n",
        "  \r\n",
        "# import json\r\n",
        "import json\r\n",
        "# store the URL in url as \r\n",
        "# parameter for urlopen\r\n",
        "url = \"https://raw.githubusercontent.com/coderdj/reviews/master/data/play_store.json\"\r\n",
        "  \r\n",
        "# store the response of URL\r\n",
        "response = urlopen(url)\r\n",
        "  \r\n",
        "# storing the JSON response \r\n",
        "# from url in data\r\n",
        "data_json = json.loads(response.read())"
      ],
      "outputs": [],
      "execution_count": 2,
      "metadata": {
        "jupyter": {
          "source_hidden": false,
          "outputs_hidden": false
        },
        "nteract": {
          "transient": {
            "deleting": false
          }
        },
        "gather": {
          "logged": 1664636853419
        }
      }
    },
    {
      "cell_type": "code",
      "source": [
        "data_json[0]"
      ],
      "outputs": [
        {
          "output_type": "execute_result",
          "execution_count": 3,
          "data": {
            "text/plain": "{'reviewId': '7ffd016e-2e53-4574-8f89-b4696069c700',\n 'userName': 'noël schüpbach',\n 'userImage': 'https://play-lh.googleusercontent.com/a/ALm5wu013x8d3UpnOd5Mi_DDMc3lu18R9ixujXperk3S=mo',\n 'content': 'die app ist seit dem update für zahlungen nicht mehr zu gebrauchen, da viel zu langsam. bisher hatte ich eine zahlung mit login innert einer minute ausgeführt. heute sieht das so aus: - app starten und login klicken, 70sek. bis die passworteingabe möglich is. - passworteingabe und weiter klicken, 60sek bis der fingerprint möglich ist. - nach dem fingerprint 60sek warten bis der kontostand ersichtlich ist. 10min für eine zahlung ist zu lange. danke für eine rasche behebung des problems.',\n 'score': 1,\n 'thumbsUpCount': 0,\n 'reviewCreatedVersion': '5.6.1',\n 'at': '2022-09-30 06:01:21',\n 'replyContent': None,\n 'repliedAt': None}"
          },
          "metadata": {}
        }
      ],
      "execution_count": 3,
      "metadata": {
        "jupyter": {
          "source_hidden": false,
          "outputs_hidden": false
        },
        "nteract": {
          "transient": {
            "deleting": false
          }
        },
        "gather": {
          "logged": 1664636853674
        }
      }
    },
    {
      "cell_type": "code",
      "source": [
        "import numpy as np\r\n",
        "\r\n",
        "plt.figure(figsize=(8,4))\r\n",
        "\r\n",
        "plt.hist([a['score'] for a in data_json], bins=np.arange(0, 7, 1))\r\n",
        "\r\n",
        "plt.xlabel(\"Score\")\r\n",
        "plt.ylabel(\"Counts\")\r\n",
        "\r\n",
        "plt.xticks(range(1, 6))\r\n",
        "plt.xlim(1, 6)\r\n",
        "\r\n",
        "plt.show()"
      ],
      "outputs": [
        {
          "output_type": "display_data",
          "data": {
            "text/plain": "<Figure size 576x288 with 1 Axes>",
            "image/png": "[encoded data removed]"
          },
          "metadata": {
            "needs_background": "light"
          }
        }
      ],
      "execution_count": 4,
      "metadata": {
        "jupyter": {
          "source_hidden": false,
          "outputs_hidden": false
        },
        "nteract": {
          "transient": {
            "deleting": false
          }
        },
        "gather": {
          "logged": 1664636854467
        }
      }
    },
    {
      "cell_type": "code",
      "source": [],
      "outputs": [],
      "execution_count": null,
      "metadata": {
        "jupyter": {
          "source_hidden": false,
          "outputs_hidden": false
        },
        "nteract": {
          "transient": {
            "deleting": false
          }
        }
      }
    }
  ],
  "metadata": {
    "kernelspec": {
      "display_name": "Python 3.8 - AzureML",
      "language": "python",
      "name": "python38-azureml"
    },
    "language_info": {
      "codemirror_mode": {
        "name": "ipython",
        "version": 3
      },
      "file_extension": ".py",
      "mimetype": "text/x-python",
      "name": "python",
      "nbconvert_exporter": "python",
      "pygments_lexer": "ipython3",
      "version": "3.8.1"
    },
    "nteract": {
      "version": "nteract-front-end@1.0.0"
    }
  },
  "nbformat": 4,
  "nbformat_minor": 2
}