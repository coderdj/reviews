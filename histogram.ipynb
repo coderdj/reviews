{
  "cells": [
    {
      "cell_type": "code",
      "source": [
        "import matplotlib.pyplot as plt"
      ],
      "outputs": [],
      "execution_count": 2,
      "metadata": {
        "gather": {
          "logged": 1664637831265
        }
      }
    },
    {
      "cell_type": "code",
      "source": [
        "# import urllib library\r\n",
        "from urllib.request import urlopen\r\n",
        "  \r\n",
        "# import json\r\n",
        "import json\r\n",
        "# store the URL in url as \r\n",
        "# parameter for urlopen\r\n",
        "url = \"https://raw.githubusercontent.com/Matteoa99/makeathon/main/data/unified.json\"\r\n",
        "  \r\n",
        "# store the response of URL\r\n",
        "response = urlopen(url)\r\n",
        "  \r\n",
        "# storing the JSON response \r\n",
        "# from url in data\r\n",
        "data_json = json.loads(response.read())"
      ],
      "outputs": [],
      "execution_count": 3,
      "metadata": {
        "jupyter": {
          "source_hidden": false,
          "outputs_hidden": false
        },
        "nteract": {
          "transient": {
            "deleting": false
          }
        },
        "gather": {
          "logged": 1664637837376
        }
      }
    },
    {
      "cell_type": "code",
      "source": [
        "data_json[0]"
      ],
      "outputs": [
        {
          "output_type": "execute_result",
          "execution_count": 4,
          "data": {
            "text/plain": "{'date': '2017-06-21 14:33:22',\n 'review': 'Bitte wieder konto gesamt übersicht.\\nNicht kacheln!!',\n 'rating': 3,\n 'platform': 'ios'}"
          },
          "metadata": {}
        }
      ],
      "execution_count": 4,
      "metadata": {
        "jupyter": {
          "source_hidden": false,
          "outputs_hidden": false
        },
        "nteract": {
          "transient": {
            "deleting": false
          }
        },
        "gather": {
          "logged": 1664637845394
        }
      }
    },
    {
      "cell_type": "code",
      "source": [
        "import numpy as np\r\n",
        "\r\n",
        "plt.figure(figsize=(8,4))\r\n",
        "\r\n",
        "plt.hist([a['rating'] for a in data_json], bins=np.arange(0, 7, 1), color=\"#AA0000\")\r\n",
        "\r\n",
        "plt.xlabel(\"Score\")\r\n",
        "plt.ylabel(\"Counts\")\r\n",
        "\r\n",
        "plt.xticks(np.arange(1.5, 6.5, 1), labels=range(1, 6))\r\n",
        "plt.xlim(1, 6)\r\n",
        "\r\n",
        "plt.show()"
      ],
      "outputs": [
        {
          "output_type": "display_data",
          "data": {
            "text/plain": "<Figure size 576x288 with 1 Axes>",
            "image/png": "[encoded data removed]"
          },
          "metadata": {
            "needs_background": "light"
          }
        }
      ],
      "execution_count": 8,
      "metadata": {
        "jupyter": {
          "source_hidden": false,
          "outputs_hidden": false
        },
        "nteract": {
          "transient": {
            "deleting": false
          }
        },
        "gather": {
          "logged": 1664638250445
        }
      }
    },
    {
      "cell_type": "code",
      "source": [
        "random_scores = np.random.rand(len(data_json))\r\n",
        "for i in range(len(data_json)):\r\n",
        "    data_json[i]['random_score'] = random_scores[i]"
      ],
      "outputs": [],
      "execution_count": 13,
      "metadata": {
        "jupyter": {
          "source_hidden": false,
          "outputs_hidden": false
        },
        "nteract": {
          "transient": {
            "deleting": false
          }
        },
        "gather": {
          "logged": 1664638465401
        }
      }
    },
    {
      "cell_type": "code",
      "source": [
        "data_json[0]"
      ],
      "outputs": [
        {
          "output_type": "execute_result",
          "execution_count": 14,
          "data": {
            "text/plain": "{'date': '2017-06-21 14:33:22',\n 'review': 'Bitte wieder konto gesamt übersicht.\\nNicht kacheln!!',\n 'rating': 3,\n 'platform': 'ios',\n 'random_score': 0.8597698753673148}"
          },
          "metadata": {}
        }
      ],
      "execution_count": 14,
      "metadata": {
        "jupyter": {
          "source_hidden": false,
          "outputs_hidden": false
        },
        "nteract": {
          "transient": {
            "deleting": false
          }
        },
        "gather": {
          "logged": 1664638469846
        }
      }
    },
    {
      "cell_type": "code",
      "source": [
        "import numpy as np\r\n",
        "\r\n",
        "plt.figure(figsize=(8,4))\r\n",
        "\r\n",
        "plt.hist([a['random_score'] for a in data_json], bins=np.arange(0, 1.01, .01), color=\"#AA0000\")\r\n",
        "\r\n",
        "plt.xlabel(\"Score\")\r\n",
        "plt.ylabel(\"Counts\")\r\n",
        "\r\n",
        "plt.xlim(0, 1)\r\n",
        "\r\n",
        "plt.show()"
      ],
      "outputs": [
        {
          "output_type": "display_data",
          "data": {
            "text/plain": "<Figure size 576x288 with 1 Axes>",
            "image/png": "[encoded data removed]"
          },
          "metadata": {
            "needs_background": "light"
          }
        }
      ],
      "execution_count": 16,
      "metadata": {
        "jupyter": {
          "source_hidden": false,
          "outputs_hidden": false
        },
        "nteract": {
          "transient": {
            "deleting": false
          }
        },
        "gather": {
          "logged": 1664638501210
        }
      }
    },
    {
      "cell_type": "code",
      "source": [],
      "outputs": [],
      "execution_count": null,
      "metadata": {
        "jupyter": {
          "source_hidden": false,
          "outputs_hidden": false
        },
        "nteract": {
          "transient": {
            "deleting": false
          }
        }
      }
    }
  ],
  "metadata": {
    "kernelspec": {
      "name": "python38-azureml",
      "language": "python",
      "display_name": "Python 3.8 - AzureML"
    },
    "language_info": {
      "name": "python",
      "version": "3.8.5",
      "mimetype": "text/x-python",
      "codemirror_mode": {
        "name": "ipython",
        "version": 3
      },
      "pygments_lexer": "ipython3",
      "nbconvert_exporter": "python",
      "file_extension": ".py"
    },
    "nteract": {
      "version": "nteract-front-end@1.0.0"
    },
    "microsoft": {
      "host": {
        "AzureML": {
          "notebookHasBeenCompleted": true
        }
      }
    },
    "kernel_info": {
      "name": "python38-azureml"
    }
  },
  "nbformat": 4,
  "nbformat_minor": 2
}