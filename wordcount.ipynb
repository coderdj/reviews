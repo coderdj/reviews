{
  "cells": [
    {
      "cell_type": "markdown",
      "source": [
        "# Count Words"
      ],
      "metadata": {
        "nteract": {
          "transient": {
            "deleting": false
          }
        }
      }
    },
    {
      "cell_type": "code",
      "source": [
        "import pickle as pkl\r\n",
        "import matplotlib.pyplot as plt\r\n",
        "import numpy as np "
      ],
      "outputs": [],
      "execution_count": 1,
      "metadata": {
        "jupyter": {
          "source_hidden": false,
          "outputs_hidden": false
        },
        "nteract": {
          "transient": {
            "deleting": false
          }
        },
        "gather": {
          "logged": 1664563546499
        }
      }
    },
    {
      "cell_type": "code",
      "source": [
        "play_store = pkl.load(open(\"data/play_store.pkl\", \"rb\"))"
      ],
      "outputs": [],
      "execution_count": 2,
      "metadata": {
        "jupyter": {
          "source_hidden": false,
          "outputs_hidden": false
        },
        "nteract": {
          "transient": {
            "deleting": false
          }
        },
        "gather": {
          "logged": 1664563573414
        }
      }
    },
    {
      "cell_type": "code",
      "source": [
        "play_store[0]"
      ],
      "outputs": [
        {
          "output_type": "execute_result",
          "execution_count": 3,
          "data": {
            "text/plain": "{'reviewId': '63e4fd39-a508-48ae-9ee1-6243849ec559',\n 'userName': 'roland roulin',\n 'userImage': 'https://play-lh.googleusercontent.com/a/ALm5wu11he4mh8PKbo4eKXKWDri0i5pAWYSG_nXnWz2P=mo',\n 'content': 'Ich brauche die app regelmässig und finde sie ist einfach anzuwenden.',\n 'score': 4,\n 'thumbsUpCount': 0,\n 'reviewCreatedVersion': '5.6.1',\n 'at': datetime.datetime(2022, 9, 29, 7, 32, 16),\n 'replyContent': 'Vielen Dank für Ihre positive Rückmeldung. Es freut uns sehr, dass Sie mit unserer App zufrieden sind.',\n 'repliedAt': datetime.datetime(2022, 9, 29, 13, 22, 3)}"
          },
          "metadata": {}
        }
      ],
      "execution_count": 3,
      "metadata": {
        "jupyter": {
          "source_hidden": false,
          "outputs_hidden": false
        },
        "nteract": {
          "transient": {
            "deleting": false
          }
        },
        "gather": {
          "logged": 1664563573608
        }
      }
    },
    {
      "cell_type": "code",
      "source": [
        "import string\r\n",
        "def CleanString(s):\r\n",
        "    if s is None:\r\n",
        "        return s\r\n",
        "    s = s.lower()\r\n",
        "    for c in string.punctuation:\r\n",
        "        s = s.replace(c, '')\r\n",
        "    return s\r\n",
        "\r\n",
        "def CountWords(s, d):\r\n",
        "    if s is None:\r\n",
        "        return d\r\n",
        "    for w in s.split(' '):\r\n",
        "        if len(w) <= 2:\r\n",
        "            continue\r\n",
        "        try:\r\n",
        "            d[w] += 1\r\n",
        "        except:\r\n",
        "            d[w] = 1\r\n",
        "    return d\r\n"
      ],
      "outputs": [],
      "execution_count": 16,
      "metadata": {
        "jupyter": {
          "source_hidden": false,
          "outputs_hidden": false
        },
        "nteract": {
          "transient": {
            "deleting": false
          }
        },
        "gather": {
          "logged": 1664564039935
        }
      }
    },
    {
      "cell_type": "code",
      "source": [
        "wc = {}\r\n",
        "for r in play_store:\r\n",
        "    wc = CountWords(\r\n",
        "            CleanString(r['content']), wc\r\n",
        "    )\r\n",
        "wc = {k: v for k, v in sorted(wc.items(), key=lambda item: item[1], reverse=True)}"
      ],
      "outputs": [],
      "execution_count": 19,
      "metadata": {
        "jupyter": {
          "source_hidden": false,
          "outputs_hidden": false
        },
        "nteract": {
          "transient": {
            "deleting": false
          }
        },
        "gather": {
          "logged": 1664564052901
        }
      }
    },
    {
      "cell_type": "code",
      "source": [
        "print(\r\n",
        "    {k: v for k, v in wc.items() if len(k) > 3 and v > 100}\r\n",
        ")"
      ],
      "outputs": [
        {
          "output_type": "stream",
          "name": "stdout",
          "text": "{'nicht': 4412, 'mehr': 1912, 'funktioniert': 1408, 'kann': 1398, 'sehr': 1261, 'update': 1088, 'auch': 1031, 'eine': 1028, 'noch': 984, 'seit': 953, 'wieder': 858, 'immer': 843, 'aber': 804, 'mich': 705, 'nach': 679, 'alles': 668, 'sich': 650, 'einfach': 636, 'super': 622, 'neue': 620, 'habe': 605, 'wenn': 604, 'muss': 602, 'postfinance': 594, 'leider': 586, 'wird': 580, 'geht': 558, 'login': 556, 'keine': 543, 'jetzt': 535, 'werden': 533, 'dass': 485, 'alte': 452, 'sind': 434, 'oder': 432, 'diese': 421, 'version': 399, 'schade': 378, 'beim': 375, 'bitte': 375, 'dann': 371, 'besser': 370, 'viel': 355, 'nichts': 354, 'möglich': 347, 'unbrauchbar': 339, 'funktionen': 339, 'einloggen': 330, 'wurde': 321, 'schon': 318, 'zufrieden': 314, 'ohne': 310, 'über': 302, 'android': 292, 'meine': 291, 'neuen': 290, 'handy': 265, 'finde': 257, 'schlecht': 257, 'stürzt': 257, 'mein': 252, 'scannen': 251, 'schnellservice': 246, 'alle': 245, 'schnell': 241, 'kein': 238, 'einer': 233, 'einen': 230, 'gute': 230, 'zahlungen': 230, 'konto': 226, 'scan': 225, 'bank': 223, 'danke': 221, 'einem': 217, 'vorher': 216, 'wäre': 214, 'zeit': 213, 'post': 213, 'problem': 208, 'doch': 208, 'gibt': 206, 'machen': 204, 'kommt': 202, 'soll': 200, 'etwas': 197, 'probleme': 192, 'alten': 190, 'sterne': 189, 'unübersichtlich': 189, 'meinem': 188, 'sein': 188, 'macht': 184, 'efinance': 183, 'rechnungen': 181, 'funktion': 180, 'design': 180, 'fingerprint': 179, 'übersichtlich': 174, 'praktisch': 171, 'katastrophe': 167, 'wirklich': 166, 'warum': 165, 'ganz': 164, 'konnte': 163, 'dies': 163, 'will': 161, 'zurück': 161, 'eigentlich': 158, 'können': 154, 'konten': 153, 'läuft': 153, 'letzten': 152, 'haben': 147, 'langsam': 146, 'samsung': 146, 'werde': 143, 'hier': 143, 'kontostand': 143, 'gemacht': 142, 'dieser': 137, 'viele': 137, 'geld': 136, 'jedoch': 135, 'bezahlen': 135, 'öffnen': 134, 'fehler': 132, 'mühsam': 132, 'weil': 131, 'sollte': 131, 'weiter': 127, 'hatte': 126, 'richtig': 125, 'echt': 125, 'einwandfrei': 125, 'anmelden': 125, 'code': 124, 'sonst': 124, 'andere': 123, 'einmal': 123, 'absolut': 122, 'wechseln': 120, 'support': 119, 'früher': 119, 'kunden': 119, 'lässt': 118, 'anderen': 118, 'wohl': 117, 'also': 115, 'rückschritt': 115, 'gerät': 114, 'damit': 114, 'schlechter': 114, 'erst': 113, 'braucht': 113, 'lange': 113, 'zahlungsvorlagen': 112, 'wieso': 112, 'installiert': 111, 'passwort': 110, 'stern': 110, 'neues': 108, 'würde': 108, 'geworden': 107, 'überhaupt': 107, 'zahlung': 107, 'wochen': 107, 'karte': 104, 'einzahlungsscheine': 104, 'kreditkarte': 103, 'jedes': 101, 'apps': 101}\n"
        }
      ],
      "execution_count": 21,
      "metadata": {
        "jupyter": {
          "source_hidden": false,
          "outputs_hidden": false
        },
        "nteract": {
          "transient": {
            "deleting": false
          }
        },
        "gather": {
          "logged": 1664564093590
        }
      }
    },
    {
      "cell_type": "code",
      "source": [],
      "outputs": [],
      "execution_count": null,
      "metadata": {
        "jupyter": {
          "source_hidden": false,
          "outputs_hidden": false
        },
        "nteract": {
          "transient": {
            "deleting": false
          }
        }
      }
    }
  ],
  "metadata": {
    "kernelspec": {
      "name": "python38-azureml",
      "language": "python",
      "display_name": "Python 3.8 - AzureML"
    },
    "language_info": {
      "name": "python",
      "version": "3.8.5",
      "mimetype": "text/x-python",
      "codemirror_mode": {
        "name": "ipython",
        "version": 3
      },
      "pygments_lexer": "ipython3",
      "nbconvert_exporter": "python",
      "file_extension": ".py"
    },
    "kernel_info": {
      "name": "python38-azureml"
    },
    "nteract": {
      "version": "nteract-front-end@1.0.0"
    }
  },
  "nbformat": 4,
  "nbformat_minor": 2
}